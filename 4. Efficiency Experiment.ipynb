{
 "cells": [
  {
   "cell_type": "code",
   "execution_count": null,
   "id": "31e6398f",
   "metadata": {
    "scrolled": true
   },
   "outputs": [],
   "source": [
    "import os\n",
    "import numpy as np\n",
    "import pandas as pd\n",
    "import tensorflow as tf\n",
    "import math\n",
    "import time"
   ]
  },
  {
   "cell_type": "code",
   "execution_count": null,
   "id": "1de2f624",
   "metadata": {},
   "outputs": [],
   "source": [
    "from sklearn.model_selection import train_test_split\n",
    "from sklearn.model_selection import StratifiedKFold\n",
    "from imblearn.over_sampling import SMOTE\n",
    "from datagen.oversampler import oversample   # LLM oversample\n",
    "skf = StratifiedKFold(n_splits=5, shuffle=True, random_state = 2)   # 5-fold-cross validation"
   ]
  },
  {
   "cell_type": "code",
   "execution_count": null,
   "id": "a11d88ba",
   "metadata": {},
   "outputs": [],
   "source": [
    "data_list = [14, 6]"
   ]
  },
  {
   "cell_type": "markdown",
   "id": "d4f41975",
   "metadata": {},
   "source": [
    "# 1.SMOTE-5CV (48% x 5 times)"
   ]
  },
  {
   "cell_type": "code",
   "execution_count": null,
   "id": "927e5d8f",
   "metadata": {
    "scrolled": true
   },
   "outputs": [],
   "source": [
    "time_list = []\n",
    "# Data Generation \n",
    "for i in [6]:\n",
    "    df = pd.read_csv('data_newest/ds'+ str(i) +'_new.csv')\n",
    "    print('+'*35, '{}th Dataset'.format(i), '+'*35)\n",
    "    \n",
    "    # Make major class as '0' and minor class as '1'\n",
    "    MAJOR = df.iloc[:,-1].value_counts()[df.iloc[:,-1].value_counts() == max(df.iloc[:,-1].value_counts())].index[0] # Moj Label\n",
    "    minor = df.iloc[:,-1].value_counts()[df.iloc[:,-1].value_counts() != max(df.iloc[:,-1].value_counts())].index[0] # min Label    \n",
    "    df.iloc[:,-1] = df.iloc[:,-1].replace(MAJOR, -100)\n",
    "    df.iloc[:,-1] = df.iloc[:,-1].replace(minor, 1)\n",
    "    df.iloc[:,-1] = df.iloc[:,-1].replace(-100, 0)\n",
    "    df.rename(columns={df.columns[-1]:'NEW_LABEL'}, inplace=True)\n",
    "    print('<Modified Class>\\n', df.iloc[:,-1].value_counts())\n",
    "    print('<Imabalance ratio>\\n', \"1:{: .3f}\".format(df.iloc[:,-1].value_counts()[1]/df.iloc[:,-1].value_counts()[0]))\n",
    "        \n",
    "    ##################### Validation:Test = 70:30 #######################\n",
    "    df_val, df_test = train_test_split(df, test_size=0.3, random_state=100, stratify=df.iloc[:,-1])\n",
    "    X = df_val.iloc[:, :-1]\n",
    "    y = df_val.iloc[:, -1]\n",
    "    \n",
    "    ##################### For Validation Set #######################\n",
    "    Strategy = [0.2, 0.3, 0.4, 0.5]\n",
    "    ind = int((y.value_counts()[1]/y.value_counts()[0])//0.2)\n",
    "    min_strategy = Strategy[ind]\n",
    "    if i == 33:\n",
    "        min_strategy = Strategy[1]\n",
    "    print(\"<min_strategy>:\",min_strategy)   \n",
    "    \n",
    "    for j in range(len(Strategy)):\n",
    "        print(\"==========\", \"SMOTE_{}\".format(Strategy[j]), \"==========\") \n",
    "        over = SMOTE(sampling_strategy=Strategy[j], random_state=0)\n",
    "        if min_strategy > Strategy[j]:\n",
    "            continue         \n",
    "        else:     \n",
    "            n_iter=0\n",
    "            for train_index, val_index in skf.split(X, y):\n",
    "                n_iter += 1\n",
    "                print(\"=======\", \"{}th-cv\".format(n_iter), \"=======\")\n",
    "                X_train = X.iloc[train_index]\n",
    "                y_train= y.iloc[train_index]\n",
    "                if n_iter == 1:\n",
    "                    print(list(y_train).count(0), list(y_train).count(1), len(y_train))\n",
    "                df_train = pd.concat([X_train, y_train], axis=1)\n",
    "                minority_data = df_train[df_train[\"NEW_LABEL\"] == 1]\n",
    "                print(\"Nedeed Samples:\",int((len(df_train)-len(minority_data))*Strategy[j]-len(minority_data)))\n",
    "                \n",
    "                # Resmapling\n",
    "                start = time.time()\n",
    "                X_train, y_train = over.fit_resample(X_train, y_train)\n",
    "                end = time.time()\n",
    "                time_list.append(end-start)\n",
    "                \n",
    "                if n_iter == 1:\n",
    "                    print(list(y_train).count(0), list(y_train).count(1), len(y_train))\n",
    "                over_df = pd.concat([X_train, y_train], axis=1)\n",
    "                break"
   ]
  },
  {
   "cell_type": "code",
   "execution_count": null,
   "id": "fffa6c51",
   "metadata": {},
   "outputs": [],
   "source": [
    "# time_sm_14 = time_list\n",
    "time_sm_14"
   ]
  },
  {
   "cell_type": "code",
   "execution_count": null,
   "id": "a3e6f8e6",
   "metadata": {},
   "outputs": [],
   "source": [
    "# time_sm_6 = time_list\n",
    "time_sm_6"
   ]
  },
  {
   "cell_type": "markdown",
   "id": "8ffb392b",
   "metadata": {},
   "source": [
    "# 3.LLM-5CV (48% x 5 times)"
   ]
  },
  {
   "cell_type": "code",
   "execution_count": null,
   "id": "f300f662",
   "metadata": {
    "scrolled": true
   },
   "outputs": [],
   "source": [
    "time_list = []\n",
    "# Data Generation\n",
    "for i in [6]:\n",
    "    df = pd.read_csv('data_newest/ds'+ str(i) +'_new.csv')\n",
    "    print('+'*35, '{}th Dataset'.format(i), '+'*35)\n",
    "    \n",
    "    # Make major class as '0' and minor class as '1'\n",
    "    MAJOR = df.iloc[:,-1].value_counts()[df.iloc[:,-1].value_counts() == max(df.iloc[:,-1].value_counts())].index[0] # Moj Label\n",
    "    minor = df.iloc[:,-1].value_counts()[df.iloc[:,-1].value_counts() != max(df.iloc[:,-1].value_counts())].index[0] # min Label    \n",
    "    df.iloc[:,-1] = df.iloc[:,-1].replace(MAJOR, -100)\n",
    "    df.iloc[:,-1] = df.iloc[:,-1].replace(minor, 1)\n",
    "    df.iloc[:,-1] = df.iloc[:,-1].replace(-100, 0)\n",
    "    df.rename(columns={df.columns[-1]:'NEW_LABEL'}, inplace=True)\n",
    "    print('<Modified Class>\\n', df.iloc[:,-1].value_counts())\n",
    "    print('<Imabalance ratio>\\n', \"1:{: .2f}\".format(df.iloc[:,-1].value_counts()[1]/df.iloc[:,-1].value_counts()[0]))\n",
    "        \n",
    "    ##################### Validation:Test = 70:30 #######################\n",
    "    df_val, df_test = train_test_split(df, test_size=0.3, random_state=100, stratify=df.iloc[:,-1])\n",
    "    X = df_val.iloc[:, :-1]\n",
    "    y = df_val.iloc[:, -1]\n",
    "    \n",
    "    ##################### For Validation Set #######################\n",
    "    Strategy = [0.2, 0.3, 0.4, 0.5]\n",
    "    ind = int((y.value_counts()[1]/y.value_counts()[0])//0.2)\n",
    "    min_strategy = Strategy[ind]\n",
    "    if i == 33:\n",
    "        min_strategy = Strategy[1]\n",
    "    print(\"<min_strategy>:\",min_strategy)   \n",
    "    \n",
    "    for h in range(len(Strategy)):\n",
    "        print(\"==========\", \"LLM_{}\".format(Strategy[h]), \"==========\")       \n",
    "        if min_strategy > Strategy[h]:\n",
    "            continue\n",
    "        else:     \n",
    "            n_iter=0\n",
    "            for train_index, val_index in skf.split(X, y):\n",
    "                n_iter += 1\n",
    "                print(\"=======\", \"{}th-cv\".format(n_iter), \"=======\")\n",
    "                X_train = X.iloc[train_index]\n",
    "                y_train= y.iloc[train_index]\n",
    "                if n_iter == 1:\n",
    "                    print(list(y_train).count(0), list(y_train).count(1), len(y_train))\n",
    "                # Resmapling\n",
    "                df_train = pd.concat([X_train, y_train], axis=1)\n",
    "                minority_data = df_train[df_train[\"NEW_LABEL\"] == 1]\n",
    "                print(\"Nedeed Samples:\",int((len(df_train)-len(minority_data))*Strategy[h]-len(minority_data)))\n",
    "                \n",
    "                \n",
    "                try:\n",
    "                    start = time.time()\n",
    "                    new_data = oversample(minority_data, \n",
    "                                          int((len(df_train)-len(minority_data))*Strategy[h]-len(minority_data)), # number of generated data samples\n",
    "                                          \"NEW_LABEL\",\n",
    "                                          1, # minor class\n",
    "                                          single_desc=True, single_vars=True\n",
    "                                          )\n",
    "                    end = time.time()\n",
    "                    time_list.append(end-start)\n",
    "                except:\n",
    "                    continue\n",
    "                \n",
    "                    \n",
    "                over_df = pd.concat([df_train, new_data], axis=0)\n",
    "                if h == 0:\n",
    "                    over_df.to_csv(\"data_newest/LLM_over/ds{}_L_{}_{}th_time.csv\".format(i, Strategy[h], n_iter), index=False)\n",
    "                break"
   ]
  },
  {
   "cell_type": "code",
   "execution_count": null,
   "id": "8c28e2b6",
   "metadata": {},
   "outputs": [],
   "source": [
    "# time_lm_14 = time_list\n",
    "time_lm_14"
   ]
  },
  {
   "cell_type": "code",
   "execution_count": null,
   "id": "ad3a4f56",
   "metadata": {},
   "outputs": [],
   "source": [
    "# time_lm_6 = time_list\n",
    "time_lm_6"
   ]
  },
  {
   "cell_type": "code",
   "execution_count": null,
   "id": "d60ce5f0",
   "metadata": {},
   "outputs": [],
   "source": []
  },
  {
   "cell_type": "markdown",
   "id": "b786cf82",
   "metadata": {},
   "source": [
    "# 5. LLM + SMOTE - CV (48% x 5 times)"
   ]
  },
  {
   "cell_type": "code",
   "execution_count": null,
   "id": "719b6993",
   "metadata": {
    "scrolled": true
   },
   "outputs": [],
   "source": [
    "time_list = [0]\n",
    "# Data Generation \n",
    "for i in [6]:\n",
    "    df = pd.read_csv('data_newest/ds'+ str(i) +'_new.csv')\n",
    "    print('+'*35, '{}th Dataset'.format(i), '+'*35)\n",
    "    \n",
    "    # Make major class as '0' and minor class as '1'\n",
    "    MAJOR = df.iloc[:,-1].value_counts()[df.iloc[:,-1].value_counts() == max(df.iloc[:,-1].value_counts())].index[0] # Moj Label\n",
    "    minor = df.iloc[:,-1].value_counts()[df.iloc[:,-1].value_counts() != max(df.iloc[:,-1].value_counts())].index[0] # min Label    \n",
    "    df.iloc[:,-1] = df.iloc[:,-1].replace(MAJOR, -100)\n",
    "    df.iloc[:,-1] = df.iloc[:,-1].replace(minor, 1)\n",
    "    df.iloc[:,-1] = df.iloc[:,-1].replace(-100, 0)\n",
    "    df.rename(columns={df.columns[-1]:'NEW_LABEL'}, inplace=True)\n",
    "    print('<Modified Class>\\n', df.iloc[:,-1].value_counts())\n",
    "    print('<Imabalance ratio>\\n', \"1:{: .2f}\".format(df.iloc[:,-1].value_counts()[1]/df.iloc[:,-1].value_counts()[0]))\n",
    "        \n",
    "    ##################### Validation:Test = 70:30 #######################\n",
    "    df_val, df_test = train_test_split(df, test_size=0.3, random_state=100, stratify=df.iloc[:,-1])\n",
    "    X = df_val.iloc[:, :-1]\n",
    "    y = df_val.iloc[:, -1]\n",
    "    print(list(y).count(0), list(y).count(1), len(y))\n",
    "    print(list(y).count(0)*0.8, list(y).count(1)*0.8, len(y)*0.8)\n",
    "    ##################### For Validation Set #######################\n",
    "    Strategy = [0.2, 0.3, 0.4, 0.5]\n",
    "    ind = int((y.value_counts()[1]/y.value_counts()[0])//0.2)\n",
    "    min_strategy = Strategy[ind]   \n",
    "    adj_strategy = Strategy[ind+1]  # original min_strategy-> LLM oversmaple, so SMOTE is used from the next \n",
    "    if i == 33:\n",
    "        min_strategy = Strategy[1]\n",
    "        adj_strategy = Strategy[2]\n",
    "    print(\"<min_strategy>:\",min_strategy)   \n",
    "    \n",
    "    for j in range(len(Strategy)):\n",
    "        print(\"==========\", \"LLM_SMOTE_{}\".format(Strategy[j]), \"==========\") \n",
    "        over = SMOTE(sampling_strategy=Strategy[j], random_state=0)\n",
    "        if adj_strategy > Strategy[j]:\n",
    "            continue\n",
    "        else:\n",
    "            for n_iter in range(1,6):\n",
    "                print(\"=======\", \"{}th-cv\".format(n_iter), \"=======\")\n",
    "                df_lm = pd.read_csv(r'LLM_over/'\n",
    "                                +'ds'+str(i)+'_L_'+str(min_strategy)+'_'+str(n_iter)+'th.csv')\n",
    "                print(str(i), str(min_strategy), str(n_iter))\n",
    "                df_lm = df_lm.replace('False', False)  # sometimes False happen\n",
    "                df_lm = df_lm.replace('FALSE', False)  # sometimes False happen\n",
    "                df_lm = df_lm.fillna(0)   # sometime NAN happen\n",
    "                X_lm = df_lm.iloc[:, :-1]\n",
    "                y_lm = df_lm.iloc[:, -1]\n",
    "                if n_iter == 1:\n",
    "                    print(list(y_lm).count(0), list(y_lm).count(1), len(y_lm)) \n",
    "                minority_data = df_lm[df_lm[\"NEW_LABEL\"] == 1]\n",
    "                print(len(df_lm), len(minority_data), Strategy[j])\n",
    "                print(\"Nedeed Samples:\",int((len(df_lm)-len(minority_data))*Strategy[j]-len(minority_data)))\n",
    "                \n",
    "                # Resmapling\n",
    "                start = time.time()\n",
    "                X_lm, y_lm = over.fit_resample(X_lm, y_lm)\n",
    "                end = time.time()\n",
    "                time_list.append(end-start)\n",
    "                \n",
    "                if n_iter == 1:\n",
    "                    print(list(y_lm).count(0), list(y_lm).count(1), len(y_lm))\n",
    "                over_df = pd.concat([X_lm, y_lm], axis=1)\n",
    "                break"
   ]
  },
  {
   "cell_type": "code",
   "execution_count": null,
   "id": "2543da90",
   "metadata": {},
   "outputs": [],
   "source": [
    "# time_ls_14 = []\n",
    "# for i in range(len(time_list)):\n",
    "#     time_ls_14.append(time_list[i] + time_lm_14[0])\n",
    "time_ls_14"
   ]
  },
  {
   "cell_type": "code",
   "execution_count": null,
   "id": "ecfd7a19",
   "metadata": {},
   "outputs": [],
   "source": [
    "# time_ls_6 = []\n",
    "# for i in range(len(time_list)):\n",
    "#     time_ls_6.append(time_list[i] + time_lm_6[0])\n",
    "time_ls_6"
   ]
  },
  {
   "cell_type": "code",
   "execution_count": null,
   "id": "70b32b72",
   "metadata": {},
   "outputs": [],
   "source": []
  }
 ],
 "metadata": {
  "kernelspec": {
   "display_name": "Python 3 (ipykernel)",
   "language": "python",
   "name": "python3"
  },
  "language_info": {
   "codemirror_mode": {
    "name": "ipython",
    "version": 3
   },
   "file_extension": ".py",
   "mimetype": "text/x-python",
   "name": "python",
   "nbconvert_exporter": "python",
   "pygments_lexer": "ipython3",
   "version": "3.8.0"
  }
 },
 "nbformat": 4,
 "nbformat_minor": 5
}
